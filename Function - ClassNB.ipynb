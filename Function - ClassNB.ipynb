{
 "cells": [
  {
   "cell_type": "markdown",
   "id": "6a7941e9",
   "metadata": {},
   "source": [
    "# Chapter 8: Functions in Python"
   ]
  },
  {
   "cell_type": "markdown",
   "id": "9d8b91de",
   "metadata": {},
   "source": [
    "## Defining\n",
    "* A function is a block of code which only runs when it is called.\n",
    "\n",
    "* You can pass data, known as parameters, into a function.\n",
    "\n",
    "* A function can return data as a result."
   ]
  },
  {
   "cell_type": "markdown",
   "id": "6557ee86",
   "metadata": {},
   "source": [
    "### This is how you define a function in Python\n",
    "- def keyword\n",
    "- name of the function\n",
    "- (parameters) --> parameters can also be empty\n",
    "- body of the function"
   ]
  },
  {
   "cell_type": "code",
   "execution_count": 2,
   "id": "42cfffc8",
   "metadata": {},
   "outputs": [],
   "source": [
    "#Always start with def keyword\n",
    "#def name_of_function(parameters):\n",
    "        #function_body\n",
    "def my_function():\n",
    "    print('hello')"
   ]
  },
  {
   "cell_type": "code",
   "execution_count": 3,
   "id": "779efb4c",
   "metadata": {},
   "outputs": [
    {
     "name": "stdout",
     "output_type": "stream",
     "text": [
      "hello\n"
     ]
    }
   ],
   "source": [
    "my_function()"
   ]
  },
  {
   "cell_type": "markdown",
   "id": "5c361e5a",
   "metadata": {},
   "source": [
    "### Why we need function?"
   ]
  },
  {
   "cell_type": "code",
   "execution_count": 4,
   "id": "3501abf0",
   "metadata": {},
   "outputs": [
    {
     "name": "stdout",
     "output_type": "stream",
     "text": [
      "2001 Newburg Rd\n"
     ]
    }
   ],
   "source": [
    "print('2001 Newburg Rd')"
   ]
  },
  {
   "cell_type": "code",
   "execution_count": 5,
   "id": "ebe88bc7",
   "metadata": {},
   "outputs": [],
   "source": [
    "def address():\n",
    "    print('2001 Newburg Rd')"
   ]
  },
  {
   "cell_type": "code",
   "execution_count": 6,
   "id": "2401e8ac",
   "metadata": {},
   "outputs": [
    {
     "name": "stdout",
     "output_type": "stream",
     "text": [
      "2001 Newburg Rd\n",
      "2001 Newburg Rd\n"
     ]
    }
   ],
   "source": [
    "address()\n",
    "address()"
   ]
  },
  {
   "cell_type": "markdown",
   "id": "d0f1621e",
   "metadata": {},
   "source": [
    "### Function with parameters"
   ]
  },
  {
   "cell_type": "markdown",
   "id": "08338a48",
   "metadata": {},
   "source": [
    "\n",
    "### The `return` statement: \n",
    "* Use inside a function or method to send the function’s result back to the caller. \n",
    "* A return statement consists of the `return` keyword followed by an optional return value\n",
    "\n",
    "* Three Ways to Return a Result to a Function’s Caller\n",
    "    * **`return`** followed by an expression.\n",
    "    * **`return`** without an expression implicitly returns **`None`**&mdash;represents the **absence of a value** and **evaluates to `False` in conditions**.\n",
    "    * **No `return` statement implicitly returns `None`**.\n"
   ]
  },
  {
   "cell_type": "code",
   "execution_count": 14,
   "id": "7d925d43",
   "metadata": {},
   "outputs": [],
   "source": [
    "#create a function that returns square of number\n",
    "import math\n",
    "def square(x):\n",
    "    return (math.pow(x,2))"
   ]
  },
  {
   "cell_type": "code",
   "execution_count": 15,
   "id": "b60d6e32",
   "metadata": {},
   "outputs": [
    {
     "data": {
      "text/plain": [
       "100.0"
      ]
     },
     "execution_count": 15,
     "metadata": {},
     "output_type": "execute_result"
    }
   ],
   "source": [
    "square(10)"
   ]
  },
  {
   "cell_type": "code",
   "execution_count": 16,
   "id": "f5635e43",
   "metadata": {},
   "outputs": [
    {
     "data": {
      "text/plain": [
       "1089.0"
      ]
     },
     "execution_count": 16,
     "metadata": {},
     "output_type": "execute_result"
    }
   ],
   "source": [
    "square(33)"
   ]
  },
  {
   "cell_type": "code",
   "execution_count": 17,
   "id": "944ec384",
   "metadata": {},
   "outputs": [],
   "source": [
    "# Cube of numbers\n",
    "import math\n",
    "def cube(y):\n",
    "    return (math.pow(y,3))"
   ]
  },
  {
   "cell_type": "code",
   "execution_count": 18,
   "id": "7f93db46",
   "metadata": {},
   "outputs": [
    {
     "data": {
      "text/plain": [
       "27.0"
      ]
     },
     "execution_count": 18,
     "metadata": {},
     "output_type": "execute_result"
    }
   ],
   "source": [
    "cube(3)"
   ]
  },
  {
   "cell_type": "code",
   "execution_count": 19,
   "id": "ebf97ae2",
   "metadata": {},
   "outputs": [
    {
     "data": {
      "text/plain": [
       "85184.0"
      ]
     },
     "execution_count": 19,
     "metadata": {},
     "output_type": "execute_result"
    }
   ],
   "source": [
    "cube(44)"
   ]
  },
  {
   "cell_type": "code",
   "execution_count": 20,
   "id": "57e2b28f",
   "metadata": {},
   "outputs": [],
   "source": [
    "#print(x)\n",
    "#Output is error because x is a local variable only valid inside the function."
   ]
  },
  {
   "cell_type": "markdown",
   "id": "0ea073dd",
   "metadata": {},
   "source": [
    "## Our own functions for practice\n",
    "`Echo` that will act same as print"
   ]
  },
  {
   "cell_type": "code",
   "execution_count": 21,
   "id": "8b616e47",
   "metadata": {},
   "outputs": [
    {
     "data": {
      "text/plain": [
       "'Name'"
      ]
     },
     "execution_count": 21,
     "metadata": {},
     "output_type": "execute_result"
    }
   ],
   "source": [
    "def echo(data):\n",
    "    return data\n",
    "echo('Name')"
   ]
  },
  {
   "cell_type": "code",
   "execution_count": 22,
   "id": "f65fdcf3",
   "metadata": {},
   "outputs": [
    {
     "data": {
      "text/plain": [
       "10"
      ]
     },
     "execution_count": 22,
     "metadata": {},
     "output_type": "execute_result"
    }
   ],
   "source": [
    "echo(10)"
   ]
  },
  {
   "cell_type": "code",
   "execution_count": 25,
   "id": "cc018c7b",
   "metadata": {},
   "outputs": [
    {
     "name": "stdout",
     "output_type": "stream",
     "text": [
      "11\n"
     ]
    }
   ],
   "source": [
    "def echo1(data):\n",
    "    print(data)\n",
    "echo1(11)"
   ]
  },
  {
   "cell_type": "code",
   "execution_count": 26,
   "id": "34572a42",
   "metadata": {},
   "outputs": [
    {
     "data": {
      "text/plain": [
       "'Lastname'"
      ]
     },
     "execution_count": 26,
     "metadata": {},
     "output_type": "execute_result"
    }
   ],
   "source": [
    "echo(\"Lastname\")"
   ]
  },
  {
   "cell_type": "markdown",
   "id": "5e46b2db",
   "metadata": {},
   "source": [
    "### Practice1 Favorite Book: Write a function called favorite_book() that accepts one parameter, title. \n",
    "The function should print a message, such as One of my\n",
    "favorite books is Alice in Wonderland. Call the function, making sure to\n",
    "include a book title as an argument in the function call."
   ]
  },
  {
   "cell_type": "code",
   "execution_count": 27,
   "id": "acb00f6e",
   "metadata": {},
   "outputs": [],
   "source": [
    "def favorite_book(title):\n",
    "    return title"
   ]
  },
  {
   "cell_type": "code",
   "execution_count": 29,
   "id": "9cc3c90d",
   "metadata": {},
   "outputs": [
    {
     "data": {
      "text/plain": [
       "'Alice in Wonderland'"
      ]
     },
     "execution_count": 29,
     "metadata": {},
     "output_type": "execute_result"
    }
   ],
   "source": [
    "favorite_book('Alice in Wonderland')"
   ]
  },
  {
   "cell_type": "markdown",
   "id": "83d0088a",
   "metadata": {},
   "source": [
    "### Functions with Multiple Parameters\n",
    "* `calc_MPG` function that determines the MPG from miles driven and gallons used"
   ]
  },
  {
   "cell_type": "code",
   "execution_count": 31,
   "id": "a50a0c0b",
   "metadata": {},
   "outputs": [],
   "source": [
    "def calc_MPG(miles_driven,gallons_used):\n",
    "    return miles_driven/gallons_used"
   ]
  },
  {
   "cell_type": "code",
   "execution_count": 34,
   "id": "2e7d4b38",
   "metadata": {},
   "outputs": [
    {
     "name": "stdout",
     "output_type": "stream",
     "text": [
      "The MPG is 35.6\n"
     ]
    }
   ],
   "source": [
    "print(f'The MPG is {calc_MPG(178,5)}')"
   ]
  },
  {
   "cell_type": "code",
   "execution_count": 35,
   "id": "186f4e11",
   "metadata": {},
   "outputs": [
    {
     "name": "stdout",
     "output_type": "stream",
     "text": [
      "The MPG is 36.36363636363637\n"
     ]
    }
   ],
   "source": [
    "print(f'The MPG is {calc_MPG(400,11)}')"
   ]
  },
  {
   "cell_type": "code",
   "execution_count": 36,
   "id": "f3757e16",
   "metadata": {},
   "outputs": [
    {
     "name": "stdout",
     "output_type": "stream",
     "text": [
      "The MPG is 36.36\n"
     ]
    }
   ],
   "source": [
    "print(f'The MPG is {calc_MPG(400,11):.2f}')"
   ]
  },
  {
   "cell_type": "markdown",
   "id": "b5e05036",
   "metadata": {},
   "source": [
    "## Default Parameter\n",
    "With default parameters, you can specify a default value that will be used for the function. If you pass a parameter in for the default value, it uses that value instead. \n",
    "### def MPG(miles=200,gallon=12)"
   ]
  },
  {
   "cell_type": "code",
   "execution_count": 2,
   "id": "12309231",
   "metadata": {},
   "outputs": [
    {
     "data": {
      "text/plain": [
       "16.666666666666668"
      ]
     },
     "execution_count": 2,
     "metadata": {},
     "output_type": "execute_result"
    }
   ],
   "source": [
    "def MPG(miles=200,gallon=12):\n",
    "    return miles/gallon\n",
    "MPG()"
   ]
  },
  {
   "cell_type": "code",
   "execution_count": 5,
   "id": "899b006a",
   "metadata": {},
   "outputs": [
    {
     "data": {
      "text/plain": [
       "17.5"
      ]
     },
     "execution_count": 5,
     "metadata": {},
     "output_type": "execute_result"
    }
   ],
   "source": [
    "MPG(miles=210) #gallon remain as default (12)"
   ]
  },
  {
   "cell_type": "code",
   "execution_count": 6,
   "id": "328f6270",
   "metadata": {},
   "outputs": [
    {
     "data": {
      "text/plain": [
       "20.0"
      ]
     },
     "execution_count": 6,
     "metadata": {},
     "output_type": "execute_result"
    }
   ],
   "source": [
    "MPG(gallon=10) #now miles remain as default (210)"
   ]
  },
  {
   "cell_type": "code",
   "execution_count": 10,
   "id": "7c94a05e",
   "metadata": {},
   "outputs": [
    {
     "data": {
      "text/plain": [
       "40.0"
      ]
     },
     "execution_count": 10,
     "metadata": {},
     "output_type": "execute_result"
    }
   ],
   "source": [
    "MPG(miles=600,gallon=15)"
   ]
  },
  {
   "cell_type": "markdown",
   "id": "c7f67792",
   "metadata": {},
   "source": [
    "###  Function repeat using `for` loop"
   ]
  },
  {
   "cell_type": "code",
   "execution_count": 13,
   "id": "485f3873",
   "metadata": {},
   "outputs": [],
   "source": [
    "# echo\n",
    "def repeat_echo(data,count):\n",
    "    for i in range(count):\n",
    "        print(data)"
   ]
  },
  {
   "cell_type": "code",
   "execution_count": 14,
   "id": "a1699662",
   "metadata": {},
   "outputs": [
    {
     "name": "stdout",
     "output_type": "stream",
     "text": [
      "Hello\n",
      "Hello\n",
      "Hello\n",
      "Hello\n",
      "Hello\n",
      "Hello\n",
      "Hello\n",
      "Hello\n",
      "Hello\n",
      "Hello\n"
     ]
    }
   ],
   "source": [
    "repeat_echo('Hello',10)"
   ]
  },
  {
   "cell_type": "markdown",
   "id": "b3003a72",
   "metadata": {},
   "source": [
    "## Practice: Define a function called `name` and print your name 20 times using the function"
   ]
  },
  {
   "cell_type": "code",
   "execution_count": 17,
   "id": "74ecdff8",
   "metadata": {},
   "outputs": [],
   "source": [
    "def name(x,y):\n",
    "    for i in range(y):\n",
    "        print(x)"
   ]
  },
  {
   "cell_type": "code",
   "execution_count": 18,
   "id": "255cdef1",
   "metadata": {},
   "outputs": [
    {
     "name": "stdout",
     "output_type": "stream",
     "text": [
      "juan\n",
      "juan\n",
      "juan\n",
      "juan\n",
      "juan\n",
      "juan\n",
      "juan\n",
      "juan\n",
      "juan\n",
      "juan\n",
      "juan\n",
      "juan\n",
      "juan\n",
      "juan\n",
      "juan\n",
      "juan\n",
      "juan\n",
      "juan\n",
      "juan\n",
      "juan\n"
     ]
    }
   ],
   "source": [
    "name('juan',20)"
   ]
  },
  {
   "cell_type": "markdown",
   "id": "c9b50f99",
   "metadata": {},
   "source": [
    "### Write a function to find maximum of three values"
   ]
  },
  {
   "cell_type": "code",
   "execution_count": 19,
   "id": "cf2eba04",
   "metadata": {},
   "outputs": [
    {
     "data": {
      "text/plain": [
       "390"
      ]
     },
     "execution_count": 19,
     "metadata": {},
     "output_type": "execute_result"
    }
   ],
   "source": [
    "max(10,20,390)"
   ]
  },
  {
   "cell_type": "code",
   "execution_count": 20,
   "id": "333853e2",
   "metadata": {},
   "outputs": [],
   "source": [
    "def maximum(a,b,c):\n",
    "    if a>b and a>c:\n",
    "        largest=a\n",
    "    elif b>c:\n",
    "        largest=b\n",
    "    else:\n",
    "        largest=c\n",
    "    return largest"
   ]
  },
  {
   "cell_type": "code",
   "execution_count": 21,
   "id": "b7737b3e",
   "metadata": {},
   "outputs": [
    {
     "data": {
      "text/plain": [
       "6"
      ]
     },
     "execution_count": 21,
     "metadata": {},
     "output_type": "execute_result"
    }
   ],
   "source": [
    "maximum(4,6,3)"
   ]
  },
  {
   "cell_type": "code",
   "execution_count": 22,
   "id": "66496cac",
   "metadata": {},
   "outputs": [
    {
     "data": {
      "text/plain": [
       "'z'"
      ]
     },
     "execution_count": 22,
     "metadata": {},
     "output_type": "execute_result"
    }
   ],
   "source": [
    "maximum('a', 'z','B')"
   ]
  },
  {
   "cell_type": "code",
   "execution_count": 23,
   "id": "763cfce0",
   "metadata": {},
   "outputs": [
    {
     "data": {
      "text/plain": [
       "'Water'"
      ]
     },
     "execution_count": 23,
     "metadata": {},
     "output_type": "execute_result"
    }
   ],
   "source": [
    "maximum('Sun','Moon','Water')"
   ]
  },
  {
   "cell_type": "markdown",
   "id": "1a8c15bd",
   "metadata": {},
   "source": [
    "### Practice Example: Define `minimum` function of three values"
   ]
  },
  {
   "cell_type": "code",
   "execution_count": 24,
   "id": "4d547ad4",
   "metadata": {},
   "outputs": [],
   "source": [
    "def minimum(a,b,c):\n",
    "    if a<b and a<c:\n",
    "        minimum=a\n",
    "    elif b<c:\n",
    "        minimum=b\n",
    "    else:\n",
    "        minimum=c\n",
    "    return minimum"
   ]
  },
  {
   "cell_type": "code",
   "execution_count": 25,
   "id": "996fb196",
   "metadata": {},
   "outputs": [
    {
     "data": {
      "text/plain": [
       "3"
      ]
     },
     "execution_count": 25,
     "metadata": {},
     "output_type": "execute_result"
    }
   ],
   "source": [
    "minimum(4,6,3)"
   ]
  },
  {
   "cell_type": "code",
   "execution_count": 27,
   "id": "02b05251",
   "metadata": {},
   "outputs": [
    {
     "data": {
      "text/plain": [
       "'Moon'"
      ]
     },
     "execution_count": 27,
     "metadata": {},
     "output_type": "execute_result"
    }
   ],
   "source": [
    "minimum('Sun','Moon','Water')"
   ]
  },
  {
   "cell_type": "markdown",
   "id": "f20ad451",
   "metadata": {},
   "source": [
    "#  Arbitrary Argument Lists\n",
    "*  **`*args`**, indicating that the function can receive any number of additional arguments. \n",
    "* The `*` before the parameter name tells Python to pack any remaining arguments into a tuple that’s passed to the `args` parameter."
   ]
  },
  {
   "cell_type": "code",
   "execution_count": 28,
   "id": "c8b8817e",
   "metadata": {},
   "outputs": [],
   "source": [
    "def get_mean(*args):\n",
    "    return sum(args)/len(args)"
   ]
  },
  {
   "cell_type": "code",
   "execution_count": 29,
   "id": "607b5195",
   "metadata": {},
   "outputs": [
    {
     "data": {
      "text/plain": [
       "6.111111111111111"
      ]
     },
     "execution_count": 29,
     "metadata": {},
     "output_type": "execute_result"
    }
   ],
   "source": [
    "get_mean(3,4,6,7,9,5,7,8,6)"
   ]
  },
  {
   "cell_type": "code",
   "execution_count": null,
   "id": "d86a3099",
   "metadata": {},
   "outputs": [],
   "source": []
  },
  {
   "cell_type": "markdown",
   "id": "84b44203",
   "metadata": {},
   "source": [
    "### Arbitary Argumented list with list"
   ]
  },
  {
   "cell_type": "code",
   "execution_count": 32,
   "id": "3c6bb74b",
   "metadata": {},
   "outputs": [
    {
     "name": "stdout",
     "output_type": "stream",
     "text": [
      "[46, 12, 37, 40, 46, 10, 23, 39, 41, 27]\n"
     ]
    }
   ],
   "source": [
    "#create a radnom numbers list having 10 values in it of a ranfe 10,50 (inclusive)\n",
    "import random\n",
    "random.seed(10)\n",
    "numbers=[]\n",
    "for i in range(10):\n",
    "    x=random.randint(10,50)\n",
    "    numbers.append(x)\n",
    "print(numbers)"
   ]
  },
  {
   "cell_type": "code",
   "execution_count": 33,
   "id": "bdbadee9",
   "metadata": {},
   "outputs": [
    {
     "data": {
      "text/plain": [
       "32.1"
      ]
     },
     "execution_count": 33,
     "metadata": {},
     "output_type": "execute_result"
    }
   ],
   "source": [
    "get_mean(*numbers)"
   ]
  },
  {
   "cell_type": "markdown",
   "id": "688d1f13",
   "metadata": {},
   "source": [
    "### More about functions\n",
    "In this session we looked at the concept of `scope`, working with `random numbers`, `statictics` and using various versions of import to work with different functions in module."
   ]
  },
  {
   "cell_type": "markdown",
   "id": "d21db560",
   "metadata": {},
   "source": [
    "### Scope\n",
    "* Each identifier has a `scope` that determines where you can use it in your program.\n",
    "\n",
    "* A local variable’s identifier has **local scope**. \n",
    "\n",
    "* Identifiers defined outside any function (or class) have **global scope**—these may include functions, variables and classes."
   ]
  },
  {
   "cell_type": "markdown",
   "id": "d8e69b30",
   "metadata": {},
   "source": [
    "One thing you don't want to do is create a variable and function with the same name. The variable will \"hide\" the function and prevent you from calling it. If you execute the cell below it will throw an error."
   ]
  },
  {
   "cell_type": "code",
   "execution_count": 1,
   "id": "a646455d",
   "metadata": {},
   "outputs": [
    {
     "data": {
      "text/plain": [
       "6"
      ]
     },
     "execution_count": 1,
     "metadata": {},
     "output_type": "execute_result"
    }
   ],
   "source": [
    "x=10 #global variable\n",
    "def scope_of_function():\n",
    "    num=3\n",
    "    return num*2\n",
    "scope_of_function()"
   ]
  },
  {
   "cell_type": "code",
   "execution_count": 3,
   "id": "0ecc0ffd",
   "metadata": {},
   "outputs": [],
   "source": [
    "#print(num) ---------name 'num' is not defined. Because it is a local scope."
   ]
  },
  {
   "cell_type": "markdown",
   "id": "1a55bc5e",
   "metadata": {},
   "source": [
    "* By default, you cannot _modify_ a global variable in a function\n",
    "* Python creates a **new local variable** when you first assign a value to a variable in a function’s block.\n",
    "* In function `try_to_modify_global`’s block, the local `x` **shadows** the global `x`, making it inaccessible in the scope of the function’s block. "
   ]
  },
  {
   "cell_type": "code",
   "execution_count": 4,
   "id": "607bd492",
   "metadata": {},
   "outputs": [],
   "source": [
    "x=10\n",
    "def try_to_modify_global():\n",
    "    x=3.5\n",
    "    return x"
   ]
  },
  {
   "cell_type": "code",
   "execution_count": 5,
   "id": "eea3de71",
   "metadata": {},
   "outputs": [
    {
     "data": {
      "text/plain": [
       "3.5"
      ]
     },
     "execution_count": 5,
     "metadata": {},
     "output_type": "execute_result"
    }
   ],
   "source": [
    "try_to_modify_global()"
   ]
  },
  {
   "cell_type": "code",
   "execution_count": 7,
   "id": "e2ffbcae",
   "metadata": {},
   "outputs": [
    {
     "name": "stdout",
     "output_type": "stream",
     "text": [
      "10\n"
     ]
    }
   ],
   "source": [
    "print(x)\n",
    "#x did not change"
   ]
  },
  {
   "cell_type": "markdown",
   "id": "3023353c",
   "metadata": {},
   "source": [
    "* To modify a global variable in a function’s block, you must use a **`global`** statement to declare that the variable is defined in the global scope: \"modify_global\""
   ]
  },
  {
   "cell_type": "code",
   "execution_count": 8,
   "id": "ad58975d",
   "metadata": {},
   "outputs": [],
   "source": [
    "x=10\n",
    "def modify_global():\n",
    "    global x\n",
    "    x=3.5\n",
    "    return x"
   ]
  },
  {
   "cell_type": "code",
   "execution_count": 9,
   "id": "ddee1391",
   "metadata": {},
   "outputs": [
    {
     "data": {
      "text/plain": [
       "3.5"
      ]
     },
     "execution_count": 9,
     "metadata": {},
     "output_type": "execute_result"
    }
   ],
   "source": [
    "modify_global()"
   ]
  },
  {
   "cell_type": "code",
   "execution_count": 11,
   "id": "0b0bc57e",
   "metadata": {},
   "outputs": [
    {
     "name": "stdout",
     "output_type": "stream",
     "text": [
      "3.5\n"
     ]
    }
   ],
   "source": [
    "print(x)\n",
    "#It did work because scope of x changed from local to global"
   ]
  },
  {
   "cell_type": "markdown",
   "id": "109a13bb",
   "metadata": {},
   "source": [
    "## Write functions to find out Area and Perimeter of circle"
   ]
  },
  {
   "cell_type": "code",
   "execution_count": 12,
   "id": "19453914",
   "metadata": {},
   "outputs": [],
   "source": [
    "import math\n",
    "def area_circle(r):\n",
    "    return math.pi*math.pow(r,2)"
   ]
  },
  {
   "cell_type": "code",
   "execution_count": 13,
   "id": "3cc23bf3",
   "metadata": {},
   "outputs": [
    {
     "name": "stdout",
     "output_type": "stream",
     "text": [
      "The area of the circle is: 314.16\n"
     ]
    }
   ],
   "source": [
    "print(f'The area of the circle is: {area_circle(10):.2f}')"
   ]
  },
  {
   "cell_type": "code",
   "execution_count": 14,
   "id": "416ab6b5",
   "metadata": {},
   "outputs": [],
   "source": [
    "def peri_circle(r):\n",
    "    return 2*math.pi*r"
   ]
  },
  {
   "cell_type": "code",
   "execution_count": 16,
   "id": "71b966cb",
   "metadata": {},
   "outputs": [
    {
     "name": "stdout",
     "output_type": "stream",
     "text": [
      "The perimeter of the circle is: 62.832\n"
     ]
    }
   ],
   "source": [
    "print(f'The perimeter of the circle is: {peri_circle(10):.3f}')"
   ]
  },
  {
   "cell_type": "markdown",
   "id": "df6f51b1",
   "metadata": {},
   "source": [
    "## Write functions to find out Area and Perimeter of rectangle"
   ]
  },
  {
   "cell_type": "code",
   "execution_count": 25,
   "id": "d3b789f5",
   "metadata": {},
   "outputs": [],
   "source": [
    "def area_rectangle(l,w):\n",
    "    return l*w\n",
    "def peri_rectangle(l,w):\n",
    "    return 2*(l+w)"
   ]
  },
  {
   "cell_type": "code",
   "execution_count": 26,
   "id": "190aa5a8",
   "metadata": {},
   "outputs": [
    {
     "name": "stdout",
     "output_type": "stream",
     "text": [
      "The area of the rectangle is: 50\n",
      "The perimeter of the rectangle is: 30\n"
     ]
    }
   ],
   "source": [
    "print(f'The area of the rectangle is: {area_rectangle(10,5)}')\n",
    "print(f'The perimeter of the rectangle is: {peri_rectangle(10,5)}')"
   ]
  }
 ],
 "metadata": {
  "kernelspec": {
   "display_name": "Python 3 (ipykernel)",
   "language": "python",
   "name": "python3"
  },
  "language_info": {
   "codemirror_mode": {
    "name": "ipython",
    "version": 3
   },
   "file_extension": ".py",
   "mimetype": "text/x-python",
   "name": "python",
   "nbconvert_exporter": "python",
   "pygments_lexer": "ipython3",
   "version": "3.11.4"
  }
 },
 "nbformat": 4,
 "nbformat_minor": 5
}
